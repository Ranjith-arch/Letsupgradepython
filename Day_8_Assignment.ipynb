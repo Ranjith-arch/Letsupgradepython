{
  "nbformat": 4,
  "nbformat_minor": 0,
  "metadata": {
    "colab": {
      "name": "Day 8-Assignment.ipynb",
      "provenance": [],
      "authorship_tag": "ABX9TyOYoKQ7yqcRkMMrn6KNYgla",
      "include_colab_link": true
    },
    "kernelspec": {
      "name": "python3",
      "display_name": "Python 3"
    }
  },
  "cells": [
    {
      "cell_type": "markdown",
      "metadata": {
        "id": "view-in-github",
        "colab_type": "text"
      },
      "source": [
        "<a href=\"https://colab.research.google.com/github/Ranjith-arch/Letsupgradepython/blob/master/Day_8_Assignment.ipynb\" target=\"_parent\"><img src=\"https://colab.research.google.com/assets/colab-badge.svg\" alt=\"Open In Colab\"/></a>"
      ]
    },
    {
      "cell_type": "code",
      "metadata": {
        "id": "5H8Pry6qZpKf",
        "colab_type": "code",
        "colab": {
          "base_uri": "https://localhost:8080/",
          "height": 34
        },
        "outputId": "e79bb431-5157-40c1-ebdd-907d245451b9"
      },
      "source": [
        "#Question 1\n",
        "def fibonacci(num):\n",
        "    def fibo(n):\n",
        "        if n<=0:\n",
        "            print(\"The number is incorrect\")\n",
        "        elif n==1:\n",
        "            return 0\n",
        "        elif n==2:\n",
        "            return  1\n",
        "        else:\n",
        "            return (fibo(n-1)+fibo(n-2))\n",
        "        return num(n)\n",
        "    return fibo\n",
        " \n",
        "@fibonacci\n",
        "def fibo_num(n):\n",
        "    print(n, \"This is the number\")\n",
        "fibo_num(20)"
      ],
      "execution_count": null,
      "outputs": [
        {
          "output_type": "execute_result",
          "data": {
            "text/plain": [
              "4181"
            ]
          },
          "metadata": {
            "tags": []
          },
          "execution_count": 12
        }
      ]
    },
    {
      "cell_type": "code",
      "metadata": {
        "id": "NiUK1LaCaI_y",
        "colab_type": "code",
        "colab": {
          "base_uri": "https://localhost:8080/",
          "height": 51
        },
        "outputId": "9fc4da78-011a-4987-9def-669d851bf322"
      },
      "source": [
        " fibo_num(0)"
      ],
      "execution_count": null,
      "outputs": [
        {
          "output_type": "stream",
          "text": [
            "The number is incorrect\n",
            "0 This is the number\n"
          ],
          "name": "stdout"
        }
      ]
    },
    {
      "cell_type": "code",
      "metadata": {
        "id": "wqiTTMemaMUy",
        "colab_type": "code",
        "colab": {
          "base_uri": "https://localhost:8080/",
          "height": 35
        },
        "outputId": "a845b267-c192-49d9-c75b-35e6f4a6d68d"
      },
      "source": [
        "#Question 2\n",
        "file=open('jupyter.txt', 'w')\n",
        "file.write(\"Hey this is Prince\")\n",
        "file.close()\n",
        "file=open('jupyter.txt', 'r')\n",
        "file.read()"
      ],
      "execution_count": null,
      "outputs": [
        {
          "output_type": "execute_result",
          "data": {
            "application/vnd.google.colaboratory.intrinsic+json": {
              "type": "string"
            },
            "text/plain": [
              "'Hey this is Prince'"
            ]
          },
          "metadata": {
            "tags": []
          },
          "execution_count": 8
        }
      ]
    },
    {
      "cell_type": "code",
      "metadata": {
        "id": "37GBkhzNaauJ",
        "colab_type": "code",
        "colab": {}
      },
      "source": [
        "#Question 2\n",
        "file=open('jupyter.txt', 'a')\n",
        "file.write(\"I'm really very Glad to join in Lets Upgrade\")\n",
        "file.close()"
      ],
      "execution_count": null,
      "outputs": []
    },
    {
      "cell_type": "code",
      "metadata": {
        "id": "AjxmZYqZafbI",
        "colab_type": "code",
        "colab": {
          "base_uri": "https://localhost:8080/",
          "height": 34
        },
        "outputId": "e22b99b0-690b-4be5-81dc-b9eba7651277"
      },
      "source": [
        "file=open('jupyter.txt')\n",
        "file.close"
      ],
      "execution_count": null,
      "outputs": [
        {
          "output_type": "execute_result",
          "data": {
            "text/plain": [
              "<function TextIOWrapper.close>"
            ]
          },
          "metadata": {
            "tags": []
          },
          "execution_count": 16
        }
      ]
    },
    {
      "cell_type": "code",
      "metadata": {
        "id": "uvCgMBPvakGH",
        "colab_type": "code",
        "colab": {}
      },
      "source": [
        " file.close()"
      ],
      "execution_count": null,
      "outputs": []
    }
  ]
}