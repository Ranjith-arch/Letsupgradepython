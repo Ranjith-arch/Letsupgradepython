{
  "nbformat": 4,
  "nbformat_minor": 0,
  "metadata": {
    "colab": {
      "name": "Day 6-Assignment.ipynb",
      "provenance": [],
      "authorship_tag": "ABX9TyOvSuFGIz39Kwbt/blmcHzB",
      "include_colab_link": true
    },
    "kernelspec": {
      "name": "python3",
      "display_name": "Python 3"
    }
  },
  "cells": [
    {
      "cell_type": "markdown",
      "metadata": {
        "id": "view-in-github",
        "colab_type": "text"
      },
      "source": [
        "<a href=\"https://colab.research.google.com/github/Ranjith-arch/Letsupgradepython/blob/master/Day_6_Assignment.ipynb\" target=\"_parent\"><img src=\"https://colab.research.google.com/assets/colab-badge.svg\" alt=\"Open In Colab\"/></a>"
      ]
    },
    {
      "cell_type": "code",
      "metadata": {
        "id": "TAsaANXP4kx-",
        "colab_type": "code",
        "colab": {
          "base_uri": "https://localhost:8080/",
          "height": 173
        },
        "outputId": "e5ef58c3-1fc4-4a2f-b38b-289e0fcba101"
      },
      "source": [
        "#QUESTION-1\n",
        "#class for BANK ACCOUNT\n",
        "class BankAccount: \n",
        " \n",
        "    def __init__(self): \n",
        " \n",
        "        self.ownerName=\"Ranjith\"\n",
        " \n",
        "        self.Balance=0\n",
        " \n",
        "    def deposit(self): \n",
        " \n",
        "        Amount=float(input(\"Enter amount to be Deposited : \")) \n",
        " \n",
        "        self.Balance += Amount \n",
        " \n",
        "        print(\"Amount Deposited is :\",Amount) \n",
        " \n",
        "    def withdraw(self): \n",
        " \n",
        "        Amount = float(input(\"Enter amount to be Withdrawn : \")) \n",
        " \n",
        "        if self.Balance >= Amount: \n",
        " \n",
        "            self.Balance -= Amount \n",
        " \n",
        "            print(\"You have Withdrew :\", Amount) \n",
        " \n",
        "        else: \n",
        " \n",
        "            print(\"Insufficient balance in the account...\") \n",
        " \n",
        "print(\"---WELCOME TO BACK ACCOUNT PROGRAM---\")\n",
        " \n",
        "BA = BankAccount()\n",
        " \n",
        "print(\"Account Holder Name is :\",BA.ownerName)\n",
        " \n",
        "print(\"Initial Account Balance is :\",BA.Balance)\n",
        " \n",
        "BA.deposit();\n",
        " \n",
        "BA.withdraw();\n",
        " \n",
        "print(\"Net Avaliable balance is : \",BA.Balance)"
      ],
      "execution_count": null,
      "outputs": [
        {
          "output_type": "stream",
          "text": [
            "---WELCOME TO BACK ACCOUNT PROGRAM---\n",
            "Account Holder Name is : Ranjith\n",
            "Initial Account Balance is : 0\n",
            "Enter amount to be Deposited : 1000\n",
            "Amount Deposited is : 1000.0\n",
            "Enter amount to be Withdrawn : 700\n",
            "You have Withdrew : 700.0\n",
            "Net Avaliable balance is :  300.0\n"
          ],
          "name": "stdout"
        }
      ]
    },
    {
      "cell_type": "code",
      "metadata": {
        "id": "gg4mWz9H5GZx",
        "colab_type": "code",
        "colab": {
          "base_uri": "https://localhost:8080/",
          "height": 173
        },
        "outputId": "4b75dee3-bdc2-48e4-d83e-1aa13200678c"
      },
      "source": [
        " \n",
        " \n",
        "#QUESTION-2\n",
        "#PROGRAM FOR CONE'S VOLUME AND SURFACE AREA\n",
        " \n",
        "import math\n",
        " \n",
        "pi = math.pi\n",
        " \n",
        "class cone:\n",
        " \n",
        "    def __init__(self,r,h): \n",
        " \n",
        "        self.r=r\n",
        " \n",
        "        self.h=h\n",
        " \n",
        "    def volume(self):\n",
        " \n",
        "        result = (1 / 3) * pi * self.r * self.r * self.h\n",
        " \n",
        "        print(\"\\nVolume Of Cone is :\",result)\n",
        " \n",
        "    def surfacearea(self):\n",
        " \n",
        "        result = pi * self.r * self.h + pi * self.r * self.r\n",
        " \n",
        "        print(\"\\nSurface Area Of Cone is :\",result)\n",
        " \n",
        "ra = float(input(\"\\nEnter the radius of cone : \"))\n",
        " \n",
        "he = float(input(\"\\nEnter the height of cone : \"))\n",
        " \n",
        "c = cone( ra, he)\n",
        " \n",
        "c.volume()\n",
        " \n",
        "c.surfacearea()"
      ],
      "execution_count": null,
      "outputs": [
        {
          "output_type": "stream",
          "text": [
            "\n",
            "Enter the radius of cone : 789\n",
            "\n",
            "Enter the height of cone : 680\n",
            "\n",
            "Volume Of Cone is : 443293677.4025508\n",
            "\n",
            "Surface Area Of Cone is : 3641234.6908093677\n"
          ],
          "name": "stdout"
        }
      ]
    }
  ]
}