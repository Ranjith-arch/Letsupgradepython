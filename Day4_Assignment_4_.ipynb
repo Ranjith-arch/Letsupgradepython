{
  "nbformat": 4,
  "nbformat_minor": 0,
  "metadata": {
    "colab": {
      "name": "Day4-Assignment 4 .ipynb",
      "provenance": [],
      "collapsed_sections": [],
      "authorship_tag": "ABX9TyP3IUM0L18uMC6zlsorBEgc",
      "include_colab_link": true
    },
    "kernelspec": {
      "name": "python3",
      "display_name": "Python 3"
    }
  },
  "cells": [
    {
      "cell_type": "markdown",
      "metadata": {
        "id": "view-in-github",
        "colab_type": "text"
      },
      "source": [
        "<a href=\"https://colab.research.google.com/github/Ranjith-arch/Letsupgradepython/blob/master/Day4_Assignment_4_.ipynb\" target=\"_parent\"><img src=\"https://colab.research.google.com/assets/colab-badge.svg\" alt=\"Open In Colab\"/></a>"
      ]
    },
    {
      "cell_type": "code",
      "metadata": {
        "id": "Hmg_1tSlwMPa",
        "colab_type": "code",
        "colab": {
          "base_uri": "https://localhost:8080/",
          "height": 54
        },
        "outputId": "15bfe34e-f974-4683-d1e6-3ff4fbdeea11"
      },
      "source": [
        "a=1042000\n",
        "b=702648265\n",
        "for num in range (a,b+1):\n",
        "    c=len (str(num))\n",
        "    \n",
        "    sum=0\n",
        " \n",
        "    temp = num\n",
        " \n",
        "    while (temp > 0):\n",
        "        x = temp % 10\n",
        "        sum += x ** c\n",
        "        temp //= 10\n",
        "      \n",
        "    if num == sum:\n",
        "        print(\"The first armstrong number is - \",num)\n",
        "        break"
      ],
      "execution_count": 16,
      "outputs": [
        {
          "output_type": "stream",
          "text": [
            "The first armstrong number is -  1741725\n"
          ],
          "name": "stdout"
        }
      ]
    }
  ]
}